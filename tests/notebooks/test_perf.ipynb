{
 "cells": [
  {
   "cell_type": "code",
   "execution_count": 1,
   "metadata": {},
   "outputs": [
    {
     "name": "stdout",
     "output_type": "stream",
     "text": [
      "torch.Size([3, 256, 256])\n"
     ]
    }
   ],
   "source": [
    "import sys\n",
    "sys.path.append(\"../..\")\n",
    "\n",
    "import torch\n",
    "from monai.networks.nets import AutoEncoder\n",
    "from monaistream import InferenceEngine\n",
    "\n",
    "device=\"cuda:0\"\n",
    "test_img=torch.rand(3,256,256)\n",
    "\n",
    "net=AutoEncoder(2,3,3,channels=[32,64,128,256],strides=[1,1,1,1]).to(device)\n",
    "# net=torch.nn.Identity().to(device)\n",
    "\n",
    "engine=InferenceEngine(device=device,network=net)\n",
    "\n",
    "print(engine(test_img).shape)"
   ]
  },
  {
   "cell_type": "code",
   "execution_count": 2,
   "metadata": {},
   "outputs": [
    {
     "name": "stdout",
     "output_type": "stream",
     "text": [
      "torch.Size([3, 256, 256])\n",
      "10.4 ms ± 20.8 μs per loop (mean ± std. dev. of 7 runs, 100 loops each)\n"
     ]
    }
   ],
   "source": [
    "engine=InferenceEngine(device=device,network=net)\n",
    "\n",
    "print(engine(test_img).shape)\n",
    "\n",
    "%timeit engine(test_img)"
   ]
  },
  {
   "cell_type": "code",
   "execution_count": 3,
   "metadata": {},
   "outputs": [
    {
     "name": "stdout",
     "output_type": "stream",
     "text": [
      "torch.Size([3, 256, 256])\n"
     ]
    },
    {
     "name": "stderr",
     "output_type": "stream",
     "text": [
      "Engine run is terminating due to exception: \n",
      "Engine run is terminating due to exception: \n"
     ]
    },
    {
     "name": "stdout",
     "output_type": "stream",
     "text": [
      "10.5 ms ± 16.9 μs per loop (mean ± std. dev. of 7 runs, 100 loops each)\n"
     ]
    }
   ],
   "source": [
    "engine=InferenceEngine(device=device,network=net,use_interrupt=False)\n",
    "\n",
    "print(engine(test_img).shape)\n",
    "\n",
    "%timeit engine(test_img)"
   ]
  }
 ],
 "metadata": {
  "kernelspec": {
   "display_name": "monai",
   "language": "python",
   "name": "python3"
  },
  "language_info": {
   "codemirror_mode": {
    "name": "ipython",
    "version": 3
   },
   "file_extension": ".py",
   "mimetype": "text/x-python",
   "name": "python",
   "nbconvert_exporter": "python",
   "pygments_lexer": "ipython3",
   "version": "3.12.8"
  }
 },
 "nbformat": 4,
 "nbformat_minor": 2
}
